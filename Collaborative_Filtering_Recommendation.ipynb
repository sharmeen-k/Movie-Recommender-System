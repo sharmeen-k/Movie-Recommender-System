{
 "cells": [
  {
   "cell_type": "markdown",
   "metadata": {},
   "source": [
    "<h2>Collaborative Filtering Recommendation System </h2>\n",
    "\n",
    "Dataset source: https://cf-courses-data.s3.us.cloud-object-storage.appdomain.cloud/IBMDeveloperSkillsNetwork-ML0101EN-SkillsNetwork/labs/Module%205/data/moviedataset.zip"
   ]
  },
  {
   "cell_type": "code",
   "execution_count": null,
   "metadata": {},
   "outputs": [],
   "source": [
    "import pandas as pd\n",
    "import numpy as np\n",
    "import matplotlib.pyplot as plt\n",
    "%matplotlib inline"
   ]
  },
  {
   "cell_type": "code",
   "execution_count": null,
   "metadata": {},
   "outputs": [],
   "source": [
    "moviesds = pd.read_csv('movies.csv')\n",
    "ratingsds = pd.read_csv('ratings.csv')\n",
    "moviesds.shape, ratingsds.shape"
   ]
  },
  {
   "cell_type": "code",
   "execution_count": null,
   "metadata": {},
   "outputs": [],
   "source": [
    "moviesds.head()"
   ]
  },
  {
   "cell_type": "code",
   "execution_count": null,
   "metadata": {},
   "outputs": [],
   "source": [
    "# Formatting the data types \n",
    "moviesds['year'] = moviesds['title'].str.extract('(\\(\\d\\d\\d\\d\\))', expand=False)\n",
    "moviesds['year'] = moviesds['year'].str.extract('(\\d\\d\\d\\d)', expand=False)\n",
    "moviesds['title'] = moviesds['title'].str.extract(r'(.*)\\s\\(\\d{4}\\)')\n",
    "moviesds.drop('genres', axis=1, inplace=True)\n",
    "\n",
    "moviesds.head()"
   ]
  },
  {
   "cell_type": "code",
   "execution_count": null,
   "metadata": {},
   "outputs": [],
   "source": [
    "ratingsds.head()"
   ]
  },
  {
   "cell_type": "code",
   "execution_count": null,
   "metadata": {},
   "outputs": [],
   "source": [
    "# Dropping timestamp as we don't need it\n",
    "ratingsds.drop('timestamp', axis=1, inplace=True)\n",
    "ratingsds.head()"
   ]
  },
  {
   "cell_type": "code",
   "execution_count": null,
   "metadata": {},
   "outputs": [],
   "source": [
    "# Creating a hypothetical user to recommend movies to. \n",
    "# The movies already viewed and rated by the user are as follows\n",
    "userinput = [\n",
    "    {'title': 'Breakfast Club, The', 'rating': 5},\n",
    "    {'title': 'Toy Story', 'rating': 3.5},\n",
    "    {'title': 'Jumanji', 'rating': 2},\n",
    "    {'title': 'Pulp Fiction', 'rating': 5},\n",
    "    {'title': 'Akira', 'rating': 4.5},\n",
    "]\n",
    "userinput = pd.DataFrame(userinput)\n",
    "userinput"
   ]
  },
  {
   "cell_type": "code",
   "execution_count": null,
   "metadata": {},
   "outputs": [],
   "source": [
    "# Extracting the IDs of the rated movies from the movies dataset\n",
    "inputid = moviesds[moviesds['title'].isin(userinput['title'].tolist())]\n",
    "inputid.drop('year', axis=1, inplace=True)\n",
    "\n",
    "inputid"
   ]
  },
  {
   "cell_type": "code",
   "execution_count": null,
   "metadata": {},
   "outputs": [],
   "source": [
    "# Merging to add movie IDs to the ratings dataset\n",
    "userinput = pd.merge(inputid, userinput)\n",
    "userinput"
   ]
  },
  {
   "cell_type": "code",
   "execution_count": null,
   "metadata": {},
   "outputs": [],
   "source": [
    "# Extracting the ratings of the users who rated the same movies\n",
    "subset = ratingsds[ratingsds['movieId'].isin(userinput['movieId'].tolist())]\n",
    "subset.head()"
   ]
  },
  {
   "cell_type": "code",
   "execution_count": null,
   "metadata": {},
   "outputs": [],
   "source": [
    "# Grouping the ratings subset by user IDs\n",
    "groupedsubset = subset.groupby('userId')\n",
    "groupedsubset.get_group(1130)"
   ]
  },
  {
   "cell_type": "code",
   "execution_count": null,
   "metadata": {},
   "outputs": [],
   "source": [
    "# Sorting the grouped subset so the users that share the most movies \n",
    "# in common with the input user have higher priority.\n",
    "\n",
    "groupedsubset = sorted(groupedsubset, key=lambda x: len(x[1]), reverse=True)\n",
    "groupedsubset = groupedsubset[:100]\n",
    "groupedsubset[0:3]"
   ]
  },
  {
   "cell_type": "code",
   "execution_count": null,
   "metadata": {},
   "outputs": [],
   "source": [
    "# Calculating Pearson's correlation values to find users with similar preferences\n",
    "\n",
    "from math import sqrt\n",
    "pearson = {}\n",
    "\n",
    "for name, group in groupedsubset:\n",
    "    group = group.sort_values(by='movieId')\n",
    "    userinput = userinput.sort_values(by='movieId')\n",
    "\n",
    "    n = len(group)\n",
    "\n",
    "    temp_df = userinput[userinput['movieId'].isin(group['movieId'].tolist())]\n",
    "    temp_rating = temp_df['rating'].tolist()\n",
    "    temp_grouprating = group['rating'].tolist()\n",
    "\n",
    "    Sxx = sum([i**2 for i in temp_rating]) - pow(sum(temp_rating), 2)/float(n)\n",
    "    Syy = sum([i**2 for i in temp_grouprating]) - pow(sum(temp_grouprating), 2)/float(n)\n",
    "    Sxy = sum( i*j for i, j in zip(temp_rating, temp_grouprating)) - sum(temp_rating)*sum(temp_grouprating)/float(n)\n",
    "    \n",
    "    pearson[name] = (Sxy / sqrt(Sxx * Syy)) if Sxx != 0 and Syy != 0 else 0\n",
    "\n",
    "pearson.items()"
   ]
  },
  {
   "cell_type": "code",
   "execution_count": null,
   "metadata": {},
   "outputs": [],
   "source": [
    "# Formatting the correlation data\n",
    "pearson = pd.DataFrame.from_dict(pearson, orient='index')\n",
    "pearson.columns = ['coef']\n",
    "pearson['userId'] = pearson.index\n",
    "pearson.reset_index()\n",
    "pearson"
   ]
  },
  {
   "cell_type": "code",
   "execution_count": null,
   "metadata": {},
   "outputs": [],
   "source": [
    "# Extracting users with the top 20 correlation values\n",
    "topusers = pearson.sort_values(by='coef', ascending=False)[:20]\n",
    "topusers.head()"
   ]
  },
  {
   "cell_type": "code",
   "execution_count": null,
   "metadata": {},
   "outputs": [],
   "source": [
    "# Finding out what other movies the users with similar taste profiles liked by\n",
    "# adding those ratings to the user correlation data\n",
    "topuserrating = topusers.merge(ratingsds, left_on='userId', right_on='userId', how='inner')\n",
    "topuserrating[:10]"
   ]
  },
  {
   "cell_type": "code",
   "execution_count": null,
   "metadata": {},
   "outputs": [],
   "source": [
    "# Calculating the weighted rating by multiplying with similarity coefficient\n",
    "topuserrating['weighted_rating'] = topuserrating['coef'] * topuserrating['rating']\n",
    "topuserrating[:10]"
   ]
  },
  {
   "cell_type": "code",
   "execution_count": null,
   "metadata": {},
   "outputs": [],
   "source": [
    "# Adding the weighted ratings for each movie\n",
    "temp_toprating = topuserrating.groupby('movieId').sum()\n",
    "temp_toprating = temp_toprating[['coef', 'weighted_rating']]\n",
    "temp_toprating.columns = ['sum_coef', 'sum_weights']\n",
    "temp_toprating.head()"
   ]
  },
  {
   "cell_type": "code",
   "execution_count": null,
   "metadata": {},
   "outputs": [],
   "source": [
    "# Calculating the weighted recommendation score based on the weighted ratings\n",
    "# and sum of similarity coefficients\n",
    "recs = pd.DataFrame()\n",
    "recs['weighted_rec_score'] = temp_toprating['sum_weights'] / temp_toprating['sum_coef']\n",
    "recs.head()"
   ]
  },
  {
   "cell_type": "code",
   "execution_count": null,
   "metadata": {},
   "outputs": [],
   "source": [
    "# Sorting to extract the top 20 recommendations\n",
    "recs = recs.sort_values(by='weighted_rec_score', ascending=False).head(20)\n",
    "recs"
   ]
  },
  {
   "cell_type": "code",
   "execution_count": null,
   "metadata": {},
   "outputs": [],
   "source": [
    "# Getting the movie information from recommended IDs\n",
    "movierecs = []\n",
    "\n",
    "for rec_id in recs.index:\n",
    "    name = moviesds[moviesds['movieId'] == rec_id]\n",
    "    name = [name['title'].tolist()[0], name['year'].tolist()[0]]\n",
    "    movierecs.append(name)\n",
    "\n",
    "movierecs"
   ]
  }
 ],
 "metadata": {
  "kernelspec": {
   "display_name": "Python 3",
   "language": "python",
   "name": "python3"
  },
  "language_info": {
   "codemirror_mode": {
    "name": "ipython",
    "version": 3
   },
   "file_extension": ".py",
   "mimetype": "text/x-python",
   "name": "python",
   "nbconvert_exporter": "python",
   "pygments_lexer": "ipython3",
   "version": "3.10.5"
  }
 },
 "nbformat": 4,
 "nbformat_minor": 2
}
